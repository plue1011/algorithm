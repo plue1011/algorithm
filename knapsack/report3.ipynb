{
 "cells": [
  {
   "cell_type": "code",
   "execution_count": 222,
   "metadata": {},
   "outputs": [],
   "source": [
    "import pandas as pd\n",
    "import numpy as np\n",
    "import time\n",
    "from tqdm import tqdm_notebook as tqdm\n",
    "import matplotlib.pyplot as plt\n",
    "%matplotlib inline"
   ]
  },
  {
   "cell_type": "code",
   "execution_count": 158,
   "metadata": {},
   "outputs": [],
   "source": [
    "# ナップサック問題を作る関数\n",
    "def generate_problem(N, RAND_MAX):\n",
    "    value = np.random.randint(1, RAND_MAX, N)\n",
    "    weight = np.random.randint(1, RAND_MAX, N)\n",
    "    ratio = value / weight\n",
    "    capacity = N * RAND_MAX / 6\n",
    "    return [value, weight, ratio, capacity]"
   ]
  },
  {
   "cell_type": "code",
   "execution_count": 159,
   "metadata": {},
   "outputs": [],
   "source": [
    "def binary(i, X, res):\n",
    "    if i >= N:\n",
    "        if weight @ X <= capacity:\n",
    "            return [value @ X, np.array(X)]\n",
    "    else:\n",
    "        X[i] = 0\n",
    "        res += binary(i+1, X, [])\n",
    "        X[i] = 1\n",
    "        res += binary(i+1, X, [])\n",
    "    return res"
   ]
  },
  {
   "cell_type": "code",
   "execution_count": 160,
   "metadata": {},
   "outputs": [],
   "source": [
    "def rec(i, j):\n",
    "    # 全ての品物を見終わった\n",
    "    print(\"*\")\n",
    "    if i == n:\n",
    "        res = 0\n",
    "    \n",
    "    # 品物が入らないのでスルー\n",
    "    elif j < w[i]:\n",
    "        res = rec(i+1, j)\n",
    "    else:\n",
    "        # iを入れないでスルーする場合\n",
    "        # iを入れて、重さを減らして、価値を増やす場合\n",
    "        # 両者のmaxをとる\n",
    "        res = max(rec(i+1, j), rec(i+1, j-w[i]) + v[i])\n",
    "\n",
    "    return res"
   ]
  },
  {
   "cell_type": "code",
   "execution_count": 193,
   "metadata": {},
   "outputs": [],
   "source": [
    "# 1から0の順番にした方が無駄な探索が入らないのか??\n",
    "def binary_prued(i, X, res):    \n",
    "    # 分枝限定(暫定値以上の解がない)\n",
    "    if (value[:i] @ X[:i]) + (value[i:] @ [1 for i in range(N-i)]) < max_value:\n",
    "        return [0, None]\n",
    "    \n",
    "    # 分枝限定(許容解)\n",
    "    if weight[:i] @ X[:i] > capacity:\n",
    "        return [0, None]\n",
    "    \n",
    "    # 荷物を全部見た\n",
    "    if i >= N:\n",
    "        if weight @ X <= capacity:\n",
    "            if value @ X > max_value[0]:\n",
    "                max_value[0] = value @ X\n",
    "            return [value @ X, np.array(X)]\n",
    "    \n",
    "    else:\n",
    "        X[i] = 0\n",
    "        res += binary_prued_(i+1, X, [])\n",
    "        X[i] = 1\n",
    "        res += binary_prued_(i+1, X, [])\n",
    "    return res"
   ]
  },
  {
   "cell_type": "code",
   "execution_count": 194,
   "metadata": {},
   "outputs": [],
   "source": [
    "# 1から0の順番にした方が無駄な探索が入らないのか??\n",
    "def binary_prued_(i, X, res):    \n",
    "    # 分枝限定(暫定値以上の解がない)\n",
    "    if (value[:i] @ X[:i]) + (value[i:] @ [1 for i in range(N-i)]) < max_value:\n",
    "        return [0, None]\n",
    "    \n",
    "    # 分枝限定(許容解)\n",
    "    if weight[:i] @ X[:i] > capacity:\n",
    "        return [0, None]\n",
    "    \n",
    "    # 荷物を全部見た\n",
    "    if i >= N:\n",
    "        if weight @ X <= capacity:\n",
    "            if value @ X > max_value[0]:\n",
    "                max_value[0] = value @ X\n",
    "            return [value @ X, np.array(X)]\n",
    "    \n",
    "    else:\n",
    "        X[i] = 1\n",
    "        res += binary_prued_(i+1, X, [])\n",
    "        X[i] = 0\n",
    "        res += binary_prued_(i+1, X, [])\n",
    "    return res"
   ]
  },
  {
   "cell_type": "code",
   "execution_count": 195,
   "metadata": {},
   "outputs": [],
   "source": [
    "def prued_solve():\n",
    "    global max_value\n",
    "    max_value[0] = 0\n",
    "    enum = np.array(binary_prued(0, np.array([0 for i in range(N)]), [])).reshape(-1,2)\n",
    "    enum_T = enum.T\n",
    "    return enum[np.argsort(enum_T[0])[-1]]"
   ]
  },
  {
   "cell_type": "code",
   "execution_count": 196,
   "metadata": {},
   "outputs": [],
   "source": [
    "def prued_solve_():\n",
    "    global max_value\n",
    "    max_value[0] = 0\n",
    "    enum = np.array(binary_prued_(0, np.array([0 for i in range(N)]), [])).reshape(-1,2)\n",
    "    enum_T = enum.T\n",
    "    return enum[np.argsort(enum_T[0])[-1]]"
   ]
  },
  {
   "cell_type": "code",
   "execution_count": 173,
   "metadata": {},
   "outputs": [],
   "source": [
    "def enumeration():\n",
    "    enum = np.array(binary(0, np.array([0 for i in range(N)]), [])).reshape(-1,2)\n",
    "    enum_T = enum.T\n",
    "    return enum[np.argsort(enum_T[0])[-1]]"
   ]
  },
  {
   "cell_type": "code",
   "execution_count": 174,
   "metadata": {},
   "outputs": [],
   "source": [
    "def greedy():\n",
    "    ratio_index = np.argsort(ratio)[::-1]\n",
    "    w = 0\n",
    "    v = 0\n",
    "    i = 0\n",
    "    ans = [0 for i in range(N)]\n",
    "    while i < N:\n",
    "        if w + weight[ratio_index[i]] <= capacity:\n",
    "            w += weight[ratio_index[i]]\n",
    "            ans[ratio_index[i]] = 1\n",
    "            v += value[ratio_index[i]]\n",
    "            i += 1\n",
    "        else:\n",
    "            i += 1\n",
    "    return [v,ans]"
   ]
  },
  {
   "cell_type": "code",
   "execution_count": 175,
   "metadata": {},
   "outputs": [],
   "source": [
    "def relaxation():\n",
    "    ratio_index = np.argsort(ratio)[::-1]\n",
    "    w = 0\n",
    "    v = 0\n",
    "    i = 0\n",
    "    ans = [0 for i in range(N)]\n",
    "    while i < N:\n",
    "        if w + weight[ratio_index[i]] <= capacity:\n",
    "            w += weight[ratio_index[i]]\n",
    "            ans[ratio_index[i]] = 1\n",
    "            v += value[ratio_index[i]]\n",
    "            i += 1\n",
    "        else:\n",
    "            ans[ratio_index[i]] = (capacity - w) / weight[ratio_index[i]]\n",
    "            v += ((capacity - w) / weight[ratio_index[i]]) * value[ratio_index[i]]\n",
    "            break\n",
    "    \n",
    "    return [v, ans]"
   ]
  },
  {
   "cell_type": "code",
   "execution_count": 209,
   "metadata": {},
   "outputs": [],
   "source": [
    "def fix_greedy(index):\n",
    "    ratio_index = np.argsort(ratio)[::-1]\n",
    "    w = weight[index]\n",
    "    v = value[index]\n",
    "    i = 1\n",
    "    ans = [1 if i == index else 0 for i in range(N)]\n",
    "    \n",
    "    while i < N-1:\n",
    "        if i != index:\n",
    "            if w + weight[ratio_index[i]] <= capacity:\n",
    "                w += weight[ratio_index[i]]\n",
    "                ans[ratio_index[i]] = 1\n",
    "                v += value[ratio_index[i]]\n",
    "                i += 1\n",
    "            else:\n",
    "                i += 1\n",
    "    return [v,ans] "
   ]
  },
  {
   "cell_type": "code",
   "execution_count": 213,
   "metadata": {},
   "outputs": [],
   "source": [
    "def half_approx():\n",
    "    # 貪欲\n",
    "    greedy_ans = greedy()\n",
    "    max_ef = 0\n",
    "    max_ef_index = False\n",
    "    for i in greedy_ans[1]:\n",
    "        if i == 0:\n",
    "            if (max_ef <= ratio[i]) and (weight[i] <= capacity):\n",
    "                max_ef = ratio[i]\n",
    "                max_ef_index = i\n",
    "    \n",
    "    fix_greedy_ans = fix_greedy(max_ef_index)\n",
    "    \n",
    "    if greedy_ans[0] < fix_greedy_ans[0]:\n",
    "        return fix_greedy_ans\n",
    "    else:\n",
    "        return greedy_ans"
   ]
  },
  {
   "cell_type": "code",
   "execution_count": 214,
   "metadata": {},
   "outputs": [],
   "source": [
    "def half_approx_test():\n",
    "    # 貪欲\n",
    "    greedy_ans = greedy()\n",
    "    max_ef = 0\n",
    "    max_ef_index = False\n",
    "    for i in greedy_ans[1]:\n",
    "        if i == 0:\n",
    "            if max_ef <= ratio[i]:\n",
    "                max_ef = ratio[i]\n",
    "                max_ef_index = i\n",
    "    \n",
    "    fix_greedy_ans = fix_greedy(max_ef_index)\n",
    "    \n",
    "    return greedy_ans, fix_greedy_ans"
   ]
  },
  {
   "cell_type": "code",
   "execution_count": null,
   "metadata": {},
   "outputs": [],
   "source": []
  }
 ],
 "metadata": {
  "kernelspec": {
   "display_name": "Python 3",
   "language": "python",
   "name": "python3"
  },
  "language_info": {
   "codemirror_mode": {
    "name": "ipython",
    "version": 3
   },
   "file_extension": ".py",
   "mimetype": "text/x-python",
   "name": "python",
   "nbconvert_exporter": "python",
   "pygments_lexer": "ipython3",
   "version": "3.7.3"
  }
 },
 "nbformat": 4,
 "nbformat_minor": 2
}
