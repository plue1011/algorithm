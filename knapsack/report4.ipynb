{
 "cells": [
  {
   "cell_type": "code",
   "execution_count": 59,
   "metadata": {},
   "outputs": [],
   "source": [
    "import pandas as pd\n",
    "import numpy as np\n",
    "from collections import deque\n",
    "import copy\n",
    "from tqdm import tqdm_notebook as tqdm\n",
    "import time\n",
    "import matplotlib.pyplot as plt\n",
    "%matplotlib inline\n",
    "\n",
    "# ナップサック問題を作る関数\n",
    "def generate_problem(N, RAND_MAX):\n",
    "    value = np.random.randint(1, RAND_MAX, N)\n",
    "    weight = np.random.randint(1, RAND_MAX, N)\n",
    "    ratio = value / weight\n",
    "    capacity = N * RAND_MAX / 6\n",
    "    return [value, weight, ratio, capacity]\n",
    "\n",
    "def greedy(problem):\n",
    "    value = problem[0]\n",
    "    weight = problem[1]\n",
    "    ratio = problem[2]\n",
    "    capacity = problem[3]\n",
    "    \n",
    "    ratio_index = np.argsort(ratio)[::-1]\n",
    "    w = 0\n",
    "    v = 0\n",
    "    i = 0\n",
    "    ans = [0 for i in range(len(value))]\n",
    "    while i < len(value):\n",
    "        if w + weight[ratio_index[i]] <= capacity:\n",
    "            w += weight[ratio_index[i]]\n",
    "            ans[ratio_index[i]] = 1\n",
    "            v += value[ratio_index[i]]\n",
    "            i += 1\n",
    "        else:\n",
    "            i += 1\n",
    "    return [v,ans]\n",
    "\n",
    "def relaxation(problem, fix):\n",
    "    value = problem[0]\n",
    "    weight = problem[1]\n",
    "    ratio = problem[2]\n",
    "    capacity = problem[3]\n",
    "    \n",
    "    ratio_index = np.argsort(ratio)[::-1]\n",
    "    w = sum([item[1]*weight[item[0]] for item in fix if item[1]==1])\n",
    "    v = sum([item[1]*value[item[0]] for item in fix if item[1]==1])\n",
    "    ans = [0 for i in range(len(value))]\n",
    "    for item in fix:\n",
    "        if item[1] == 1:\n",
    "            ans[item[0]] = 1\n",
    "    fix_index = [item[0] for item in fix]\n",
    "    i = 0\n",
    "    \n",
    "    while i < len(value):\n",
    "        if ratio_index[i] not in fix_index:\n",
    "            if w + weight[ratio_index[i]] <= capacity:\n",
    "                w += weight[ratio_index[i]]\n",
    "                ans[ratio_index[i]] = 1\n",
    "                v += value[ratio_index[i]]\n",
    "                i += 1\n",
    "            else:\n",
    "                ans[ratio_index[i]] = (capacity - w) / weight[ratio_index[i]]\n",
    "                v += ((capacity - w) / weight[ratio_index[i]]) * value[ratio_index[i]]\n",
    "                break\n",
    "        else:\n",
    "            i += 1\n",
    "    return [v, ans]\n",
    "\n",
    "def prued_relax(problem, fix):  \n",
    "    value = problem[0]\n",
    "    weight = problem[1]\n",
    "    ratio = problem[2]\n",
    "    capacity = problem[3]\n",
    "    \n",
    "    fix_index = [item[0] for item in fix]\n",
    "    # 固定されてない変数を一個取ってくる\n",
    "    for i in range(len(value)):\n",
    "        if i not in fix_index:\n",
    "            stack = deque([[i,0],[i,1]])\n",
    "            break\n",
    "   \n",
    "    ans = deque([])\n",
    "    # 暫定解\n",
    "    temp_value = 0\n",
    "    while stack:\n",
    "        temp = stack.pop()\n",
    "        i = temp[0]\n",
    "        x_i = temp[1]\n",
    "\n",
    "        ans.append([i, x_i])\n",
    "\n",
    "        # 許容解がない\n",
    "        if sum([w[1]*weight[w[0]] for w in fix+list(ans) if w[1]==1]) > capacity:\n",
    "            while ans:\n",
    "                flag = ans.pop()\n",
    "                if flag[1] == 1:\n",
    "                    break\n",
    "        else:\n",
    "            # 線形緩和を解く\n",
    "            ans_v,ans_w = relaxation(problem, fix+list(ans))\n",
    "            not_Z_list = [i for i,w in enumerate(ans_w) if (w!=1 and w!=0)]\n",
    "            # 整数解が見つかった \n",
    "            if sum(not_Z_list) == 0:\n",
    "                # 暫定解より良い解ならば更新する\n",
    "                if ans_v > temp_value:\n",
    "                    temp_w = copy.copy(ans_w)\n",
    "                    temp_value = ans_v\n",
    "                while ans:\n",
    "                    flag = ans.pop()\n",
    "                    if flag[1] == 1:\n",
    "                        break\n",
    "\n",
    "            else:\n",
    "                # 暫定解より大きければ深掘りする\n",
    "                if ans_v > temp_value:\n",
    "                    # 分数であるインデックスを取り出す\n",
    "                    stack.append([not_Z_list[0],0])\n",
    "                    stack.append([not_Z_list[0],1])\n",
    "                else:\n",
    "                    while ans:\n",
    "                        flag = ans.pop()\n",
    "                        if flag[1] == 1:\n",
    "                            break           \n",
    "    return [temp_value, temp_w]"
   ]
  },
  {
   "cell_type": "code",
   "execution_count": 107,
   "metadata": {},
   "outputs": [
    {
     "name": "stdout",
     "output_type": "stream",
     "text": [
      "item数:\n",
      "10\n",
      "capacity: 1666.6666666666667\n",
      "   value  weight     ratio\n",
      "0  886.0   278.0  3.187050\n",
      "1  671.0   469.0  1.430704\n",
      "2  886.0   983.0  0.901322\n",
      "3  841.0   970.0  0.867010\n",
      "4  715.0   913.0  0.783133\n",
      "5  180.0   307.0  0.586319\n",
      "6  542.0   964.0  0.562241\n",
      "7  429.0   857.0  0.500583\n",
      "8  273.0   930.0  0.293548\n",
      "9  164.0   772.0  0.212435\n"
     ]
    }
   ],
   "source": [
    "print(\"item数:\")\n",
    "N = int(input())\n",
    "problem = generate_problem(N, 1000)\n",
    "capacity = problem[3]\n",
    "\n",
    "problem_df = pd.DataFrame(np.array(problem[:-1]).T, columns=[\"value\",\"weight\",\"ratio\"])\n",
    "problem_df = problem_df.sort_values([\"ratio\",\"weight\"], ascending=[False,True]).reset_index(drop=True)\n",
    "\n",
    "print(\"capacity:\",problem[-1])\n",
    "print(problem_df)"
   ]
  },
  {
   "cell_type": "code",
   "execution_count": 48,
   "metadata": {},
   "outputs": [],
   "source": [
    "problem = problem_df.to_numpy().T\n",
    "problem = list(problem)\n",
    "problem.append(capacity)\n",
    "\n",
    "value = problem[0]\n",
    "weight = problem[1]\n",
    "ratio = problem[2]"
   ]
  },
  {
   "cell_type": "code",
   "execution_count": 55,
   "metadata": {},
   "outputs": [],
   "source": [
    "def pegging(problem):\n",
    "    greedy_v, greedy_ans = greedy(problem)\n",
    "    relax_v, relax_ans = relaxation(problem, [])\n",
    "    ans = []\n",
    "    for i, tf in enumerate(relax_ans):\n",
    "        \n",
    "        if tf == 1:\n",
    "            temp_v, temp_ans = relaxation(problem, ans + [[i, 0]])\n",
    "            if temp_v < greedy_v:\n",
    "                ans.append([i, 1])\n",
    "        \n",
    "        elif tf == 0:\n",
    "            temp_v, temp_ans = relaxation(problem, ans + [[i, 1]])\n",
    "            if temp_v < greedy_v:\n",
    "                ans.append([i, 0])\n",
    "    return prued_relax(problem, ans)"
   ]
  },
  {
   "cell_type": "code",
   "execution_count": 50,
   "metadata": {},
   "outputs": [],
   "source": [
    "#%time enumeration()"
   ]
  },
  {
   "cell_type": "code",
   "execution_count": 108,
   "metadata": {},
   "outputs": [
    {
     "name": "stdout",
     "output_type": "stream",
     "text": [
      "[2272, [1, 0, 0, 0, 1, 0, 0, 1, 0, 0]]\n",
      "CPU times: user 1.32 ms, sys: 286 µs, total: 1.61 ms\n",
      "Wall time: 1.45 ms\n"
     ]
    }
   ],
   "source": [
    "%time print(pegging(problem))"
   ]
  },
  {
   "cell_type": "code",
   "execution_count": 52,
   "metadata": {},
   "outputs": [
    {
     "name": "stdout",
     "output_type": "stream",
     "text": [
      "CPU times: user 1.95 ms, sys: 324 µs, total: 2.27 ms\n",
      "Wall time: 2.05 ms\n"
     ]
    },
    {
     "data": {
      "text/plain": [
       "[2457.0, [1, 1, 1, 1, 0, 1, 0, 0, 0, 0]]"
      ]
     },
     "execution_count": 52,
     "metadata": {},
     "output_type": "execute_result"
    }
   ],
   "source": [
    "%time prued_relax(problem, [])"
   ]
  },
  {
   "cell_type": "markdown",
   "metadata": {},
   "source": [
    "釘打ちテストはナップサック問題のrationの種類が多いと単純な分枝限定法より高速になる。\n",
    "しかし、単純な問題であると単純な分枝限定法の方が高速になる"
   ]
  },
  {
   "cell_type": "markdown",
   "metadata": {},
   "source": [
    "# RAND_MAX=1000"
   ]
  },
  {
   "cell_type": "code",
   "execution_count": 86,
   "metadata": {},
   "outputs": [
    {
     "data": {
      "application/vnd.jupyter.widget-view+json": {
       "model_id": "7cebe427fa9e44ea95a4291f5f074692",
       "version_major": 2,
       "version_minor": 0
      },
      "text/plain": [
       "HBox(children=(IntProgress(value=0), HTML(value='')))"
      ]
     },
     "metadata": {},
     "output_type": "display_data"
    },
    {
     "name": "stdout",
     "output_type": "stream",
     "text": [
      "\n"
     ]
    }
   ],
   "source": [
    "time_pegging = []\n",
    "time_prued = []\n",
    "\n",
    "item = []\n",
    "\n",
    "n = 100\n",
    "for N in tqdm(range(1,100000,1000)):\n",
    "    item.append(N)\n",
    "    time_prued_sum = []\n",
    "    time_pegging_sum = []\n",
    "    \n",
    "    for i in range(n):\n",
    "        problem = generate_problem(N, 1000)\n",
    "        problem = problem_df.to_numpy().T\n",
    "        problem = list(problem)\n",
    "        problem.append(capacity)\n",
    "\n",
    "        value = problem[0]\n",
    "        weight = problem[1]\n",
    "        ratio = problem[2]\n",
    "\n",
    "        start = time.time()\n",
    "        test1, test2 = prued_relax(problem, [])\n",
    "        time_prued_sum.append((time.time() - start))\n",
    "\n",
    "        start = time.time()\n",
    "        test1, test2 = pegging(problem)\n",
    "        time_pegging_sum.append((time.time() - start))\n",
    "    time_prued.append(sum(time_prued_sum)/n)\n",
    "    time_pegging.append(sum(time_pegging_sum)/n)"
   ]
  },
  {
   "cell_type": "code",
   "execution_count": 87,
   "metadata": {
    "scrolled": false
   },
   "outputs": [
    {
     "data": {
      "text/html": [
       "<div>\n",
       "<style scoped>\n",
       "    .dataframe tbody tr th:only-of-type {\n",
       "        vertical-align: middle;\n",
       "    }\n",
       "\n",
       "    .dataframe tbody tr th {\n",
       "        vertical-align: top;\n",
       "    }\n",
       "\n",
       "    .dataframe thead th {\n",
       "        text-align: right;\n",
       "    }\n",
       "</style>\n",
       "<table border=\"1\" class=\"dataframe\">\n",
       "  <thead>\n",
       "    <tr style=\"text-align: right;\">\n",
       "      <th></th>\n",
       "      <th>pegging</th>\n",
       "      <th>prued</th>\n",
       "    </tr>\n",
       "  </thead>\n",
       "  <tbody>\n",
       "    <tr>\n",
       "      <td>1</td>\n",
       "      <td>0.001460</td>\n",
       "      <td>0.001373</td>\n",
       "    </tr>\n",
       "    <tr>\n",
       "      <td>1001</td>\n",
       "      <td>0.001700</td>\n",
       "      <td>0.001721</td>\n",
       "    </tr>\n",
       "    <tr>\n",
       "      <td>2001</td>\n",
       "      <td>0.001202</td>\n",
       "      <td>0.001244</td>\n",
       "    </tr>\n",
       "    <tr>\n",
       "      <td>3001</td>\n",
       "      <td>0.001169</td>\n",
       "      <td>0.001239</td>\n",
       "    </tr>\n",
       "    <tr>\n",
       "      <td>4001</td>\n",
       "      <td>0.001225</td>\n",
       "      <td>0.001239</td>\n",
       "    </tr>\n",
       "    <tr>\n",
       "      <td>...</td>\n",
       "      <td>...</td>\n",
       "      <td>...</td>\n",
       "    </tr>\n",
       "    <tr>\n",
       "      <td>95001</td>\n",
       "      <td>0.001135</td>\n",
       "      <td>0.001199</td>\n",
       "    </tr>\n",
       "    <tr>\n",
       "      <td>96001</td>\n",
       "      <td>0.001318</td>\n",
       "      <td>0.001554</td>\n",
       "    </tr>\n",
       "    <tr>\n",
       "      <td>97001</td>\n",
       "      <td>0.001412</td>\n",
       "      <td>0.001315</td>\n",
       "    </tr>\n",
       "    <tr>\n",
       "      <td>98001</td>\n",
       "      <td>0.001444</td>\n",
       "      <td>0.001528</td>\n",
       "    </tr>\n",
       "    <tr>\n",
       "      <td>99001</td>\n",
       "      <td>0.001388</td>\n",
       "      <td>0.001607</td>\n",
       "    </tr>\n",
       "  </tbody>\n",
       "</table>\n",
       "<p>100 rows × 2 columns</p>\n",
       "</div>"
      ],
      "text/plain": [
       "        pegging     prued\n",
       "1      0.001460  0.001373\n",
       "1001   0.001700  0.001721\n",
       "2001   0.001202  0.001244\n",
       "3001   0.001169  0.001239\n",
       "4001   0.001225  0.001239\n",
       "...         ...       ...\n",
       "95001  0.001135  0.001199\n",
       "96001  0.001318  0.001554\n",
       "97001  0.001412  0.001315\n",
       "98001  0.001444  0.001528\n",
       "99001  0.001388  0.001607\n",
       "\n",
       "[100 rows x 2 columns]"
      ]
     },
     "execution_count": 87,
     "metadata": {},
     "output_type": "execute_result"
    }
   ],
   "source": [
    "time_df = pd.DataFrame({\"pegging\":time_pegging, \n",
    "                        \"prued\":time_prued},\n",
    "                       index=item)\n",
    "time_df"
   ]
  },
  {
   "cell_type": "code",
   "execution_count": 90,
   "metadata": {},
   "outputs": [
    {
     "data": {
      "image/png": "[encoded data removed]",
      "text/plain": [
       "<Figure size 432x288 with 1 Axes>"
      ]
     },
     "metadata": {
      "needs_background": "light"
     },
     "output_type": "display_data"
    }
   ],
   "source": [
    "time_df.plot(xticks=range(1,100000,10000))\n",
    "plt.show()"
   ]
  },
  {
   "cell_type": "markdown",
   "metadata": {},
   "source": [
    "# RAND_MAX=10"
   ]
  },
  {
   "cell_type": "code",
   "execution_count": 92,
   "metadata": {},
   "outputs": [
    {
     "data": {
      "application/vnd.jupyter.widget-view+json": {
       "model_id": "79216c5d62824901a7036aa168041879",
       "version_major": 2,
       "version_minor": 0
      },
      "text/plain": [
       "HBox(children=(IntProgress(value=0), HTML(value='')))"
      ]
     },
     "metadata": {},
     "output_type": "display_data"
    },
    {
     "name": "stdout",
     "output_type": "stream",
     "text": [
      "\n"
     ]
    }
   ],
   "source": [
    "time_pegging = []\n",
    "time_prued = []\n",
    "\n",
    "item = []\n",
    "\n",
    "n = 100\n",
    "for N in tqdm(range(1,100000,1000)):\n",
    "    item.append(N)\n",
    "    time_prued_sum = []\n",
    "    time_pegging_sum = []\n",
    "    \n",
    "    for i in range(n):\n",
    "        problem = generate_problem(N, 10)\n",
    "        problem = problem_df.to_numpy().T\n",
    "        problem = list(problem)\n",
    "        problem.append(capacity)\n",
    "\n",
    "        value = problem[0]\n",
    "        weight = problem[1]\n",
    "        ratio = problem[2]\n",
    "\n",
    "        start = time.time()\n",
    "        test1, test2 = prued_relax(problem, [])\n",
    "        time_prued_sum.append((time.time() - start))\n",
    "\n",
    "        start = time.time()\n",
    "        test1, test2 = pegging(problem)\n",
    "        time_pegging_sum.append((time.time() - start))\n",
    "    time_prued.append(sum(time_prued_sum)/n)\n",
    "    time_pegging.append(sum(time_pegging_sum)/n)"
   ]
  },
  {
   "cell_type": "code",
   "execution_count": 94,
   "metadata": {
    "scrolled": false
   },
   "outputs": [
    {
     "data": {
      "text/html": [
       "<div>\n",
       "<style scoped>\n",
       "    .dataframe tbody tr th:only-of-type {\n",
       "        vertical-align: middle;\n",
       "    }\n",
       "\n",
       "    .dataframe tbody tr th {\n",
       "        vertical-align: top;\n",
       "    }\n",
       "\n",
       "    .dataframe thead th {\n",
       "        text-align: right;\n",
       "    }\n",
       "</style>\n",
       "<table border=\"1\" class=\"dataframe\">\n",
       "  <thead>\n",
       "    <tr style=\"text-align: right;\">\n",
       "      <th></th>\n",
       "      <th>pegging</th>\n",
       "      <th>prued</th>\n",
       "    </tr>\n",
       "  </thead>\n",
       "  <tbody>\n",
       "    <tr>\n",
       "      <td>1</td>\n",
       "      <td>0.001399</td>\n",
       "      <td>0.001506</td>\n",
       "    </tr>\n",
       "    <tr>\n",
       "      <td>1001</td>\n",
       "      <td>0.001059</td>\n",
       "      <td>0.001062</td>\n",
       "    </tr>\n",
       "    <tr>\n",
       "      <td>2001</td>\n",
       "      <td>0.001096</td>\n",
       "      <td>0.001124</td>\n",
       "    </tr>\n",
       "    <tr>\n",
       "      <td>3001</td>\n",
       "      <td>0.001026</td>\n",
       "      <td>0.001058</td>\n",
       "    </tr>\n",
       "    <tr>\n",
       "      <td>4001</td>\n",
       "      <td>0.001067</td>\n",
       "      <td>0.001132</td>\n",
       "    </tr>\n",
       "    <tr>\n",
       "      <td>...</td>\n",
       "      <td>...</td>\n",
       "      <td>...</td>\n",
       "    </tr>\n",
       "    <tr>\n",
       "      <td>95001</td>\n",
       "      <td>0.001017</td>\n",
       "      <td>0.001171</td>\n",
       "    </tr>\n",
       "    <tr>\n",
       "      <td>96001</td>\n",
       "      <td>0.001033</td>\n",
       "      <td>0.001190</td>\n",
       "    </tr>\n",
       "    <tr>\n",
       "      <td>97001</td>\n",
       "      <td>0.001029</td>\n",
       "      <td>0.001178</td>\n",
       "    </tr>\n",
       "    <tr>\n",
       "      <td>98001</td>\n",
       "      <td>0.000997</td>\n",
       "      <td>0.001136</td>\n",
       "    </tr>\n",
       "    <tr>\n",
       "      <td>99001</td>\n",
       "      <td>0.001017</td>\n",
       "      <td>0.001182</td>\n",
       "    </tr>\n",
       "  </tbody>\n",
       "</table>\n",
       "<p>100 rows × 2 columns</p>\n",
       "</div>"
      ],
      "text/plain": [
       "        pegging     prued\n",
       "1      0.001399  0.001506\n",
       "1001   0.001059  0.001062\n",
       "2001   0.001096  0.001124\n",
       "3001   0.001026  0.001058\n",
       "4001   0.001067  0.001132\n",
       "...         ...       ...\n",
       "95001  0.001017  0.001171\n",
       "96001  0.001033  0.001190\n",
       "97001  0.001029  0.001178\n",
       "98001  0.000997  0.001136\n",
       "99001  0.001017  0.001182\n",
       "\n",
       "[100 rows x 2 columns]"
      ]
     },
     "execution_count": 94,
     "metadata": {},
     "output_type": "execute_result"
    }
   ],
   "source": [
    "time_df_10 = pd.DataFrame({\"pegging\":time_pegging, \n",
    "                        \"prued\":time_prued},\n",
    "                       index=item)\n",
    "time_df_10"
   ]
  },
  {
   "cell_type": "code",
   "execution_count": 95,
   "metadata": {},
   "outputs": [
    {
     "data": {
      "image/png": "[encoded data removed]",
      "text/plain": [
       "<Figure size 432x288 with 1 Axes>"
      ]
     },
     "metadata": {
      "needs_background": "light"
     },
     "output_type": "display_data"
    }
   ],
   "source": [
    "time_df_10.plot(xticks=range(1,100000,10000))\n",
    "plt.show()"
   ]
  },
  {
   "cell_type": "markdown",
   "metadata": {},
   "source": [
    "# RAND_MAX=100"
   ]
  },
  {
   "cell_type": "code",
   "execution_count": 97,
   "metadata": {},
   "outputs": [
    {
     "data": {
      "application/vnd.jupyter.widget-view+json": {
       "model_id": "92766a2848b8480a96dd19f8f6c97b7f",
       "version_major": 2,
       "version_minor": 0
      },
      "text/plain": [
       "HBox(children=(IntProgress(value=0), HTML(value='')))"
      ]
     },
     "metadata": {},
     "output_type": "display_data"
    },
    {
     "name": "stdout",
     "output_type": "stream",
     "text": [
      "\n"
     ]
    }
   ],
   "source": [
    "time_pegging = []\n",
    "time_prued = []\n",
    "\n",
    "item = []\n",
    "\n",
    "n = 100\n",
    "for N in tqdm(range(1,100000,1000)):\n",
    "    item.append(N)\n",
    "    time_prued_sum = []\n",
    "    time_pegging_sum = []\n",
    "    \n",
    "    for i in range(n):\n",
    "        problem = generate_problem(N, 100)\n",
    "        problem = problem_df.to_numpy().T\n",
    "        problem = list(problem)\n",
    "        problem.append(capacity)\n",
    "\n",
    "        value = problem[0]\n",
    "        weight = problem[1]\n",
    "        ratio = problem[2]\n",
    "\n",
    "        start = time.time()\n",
    "        test1, test2 = prued_relax(problem, [])\n",
    "        time_prued_sum.append((time.time() - start))\n",
    "\n",
    "        start = time.time()\n",
    "        test1, test2 = pegging(problem)\n",
    "        time_pegging_sum.append((time.time() - start))\n",
    "    time_prued.append(sum(time_prued_sum)/n)\n",
    "    time_pegging.append(sum(time_pegging_sum)/n)"
   ]
  },
  {
   "cell_type": "code",
   "execution_count": 98,
   "metadata": {
    "scrolled": false
   },
   "outputs": [
    {
     "data": {
      "text/html": [
       "<div>\n",
       "<style scoped>\n",
       "    .dataframe tbody tr th:only-of-type {\n",
       "        vertical-align: middle;\n",
       "    }\n",
       "\n",
       "    .dataframe tbody tr th {\n",
       "        vertical-align: top;\n",
       "    }\n",
       "\n",
       "    .dataframe thead th {\n",
       "        text-align: right;\n",
       "    }\n",
       "</style>\n",
       "<table border=\"1\" class=\"dataframe\">\n",
       "  <thead>\n",
       "    <tr style=\"text-align: right;\">\n",
       "      <th></th>\n",
       "      <th>pegging</th>\n",
       "      <th>prued</th>\n",
       "    </tr>\n",
       "  </thead>\n",
       "  <tbody>\n",
       "    <tr>\n",
       "      <td>1</td>\n",
       "      <td>0.001287</td>\n",
       "      <td>0.001243</td>\n",
       "    </tr>\n",
       "    <tr>\n",
       "      <td>1001</td>\n",
       "      <td>0.001058</td>\n",
       "      <td>0.001042</td>\n",
       "    </tr>\n",
       "    <tr>\n",
       "      <td>2001</td>\n",
       "      <td>0.001110</td>\n",
       "      <td>0.001148</td>\n",
       "    </tr>\n",
       "    <tr>\n",
       "      <td>3001</td>\n",
       "      <td>0.001042</td>\n",
       "      <td>0.001066</td>\n",
       "    </tr>\n",
       "    <tr>\n",
       "      <td>4001</td>\n",
       "      <td>0.001052</td>\n",
       "      <td>0.001075</td>\n",
       "    </tr>\n",
       "    <tr>\n",
       "      <td>...</td>\n",
       "      <td>...</td>\n",
       "      <td>...</td>\n",
       "    </tr>\n",
       "    <tr>\n",
       "      <td>95001</td>\n",
       "      <td>0.001025</td>\n",
       "      <td>0.001165</td>\n",
       "    </tr>\n",
       "    <tr>\n",
       "      <td>96001</td>\n",
       "      <td>0.001026</td>\n",
       "      <td>0.001174</td>\n",
       "    </tr>\n",
       "    <tr>\n",
       "      <td>97001</td>\n",
       "      <td>0.001001</td>\n",
       "      <td>0.001144</td>\n",
       "    </tr>\n",
       "    <tr>\n",
       "      <td>98001</td>\n",
       "      <td>0.000992</td>\n",
       "      <td>0.001168</td>\n",
       "    </tr>\n",
       "    <tr>\n",
       "      <td>99001</td>\n",
       "      <td>0.001002</td>\n",
       "      <td>0.001174</td>\n",
       "    </tr>\n",
       "  </tbody>\n",
       "</table>\n",
       "<p>100 rows × 2 columns</p>\n",
       "</div>"
      ],
      "text/plain": [
       "        pegging     prued\n",
       "1      0.001287  0.001243\n",
       "1001   0.001058  0.001042\n",
       "2001   0.001110  0.001148\n",
       "3001   0.001042  0.001066\n",
       "4001   0.001052  0.001075\n",
       "...         ...       ...\n",
       "95001  0.001025  0.001165\n",
       "96001  0.001026  0.001174\n",
       "97001  0.001001  0.001144\n",
       "98001  0.000992  0.001168\n",
       "99001  0.001002  0.001174\n",
       "\n",
       "[100 rows x 2 columns]"
      ]
     },
     "execution_count": 98,
     "metadata": {},
     "output_type": "execute_result"
    }
   ],
   "source": [
    "time_df_100 = pd.DataFrame({\"pegging\":time_pegging, \n",
    "                        \"prued\":time_prued},\n",
    "                       index=item)\n",
    "time_df_100"
   ]
  },
  {
   "cell_type": "code",
   "execution_count": 99,
   "metadata": {},
   "outputs": [
    {
     "data": {
      "image/png": "[encoded data removed]",
      "text/plain": [
       "<Figure size 432x288 with 1 Axes>"
      ]
     },
     "metadata": {
      "needs_background": "light"
     },
     "output_type": "display_data"
    }
   ],
   "source": [
    "time_df_100.plot(xticks=range(1,100000,10000))\n",
    "plt.show()"
   ]
  },
  {
   "cell_type": "markdown",
   "metadata": {},
   "source": [
    "# RAND_MAX=100000"
   ]
  },
  {
   "cell_type": "code",
   "execution_count": 101,
   "metadata": {},
   "outputs": [
    {
     "data": {
      "application/vnd.jupyter.widget-view+json": {
       "model_id": "7d431a628ea54905a5677ec94ce10b8b",
       "version_major": 2,
       "version_minor": 0
      },
      "text/plain": [
       "HBox(children=(IntProgress(value=0), HTML(value='')))"
      ]
     },
     "metadata": {},
     "output_type": "display_data"
    },
    {
     "name": "stdout",
     "output_type": "stream",
     "text": [
      "\n"
     ]
    }
   ],
   "source": [
    "time_pegging = []\n",
    "time_prued = []\n",
    "\n",
    "item = []\n",
    "\n",
    "n = 100\n",
    "for N in tqdm(range(1,100000,1000)):\n",
    "    item.append(N)\n",
    "    time_prued_sum = []\n",
    "    time_pegging_sum = []\n",
    "    \n",
    "    for i in range(n):\n",
    "        problem = generate_problem(N, 100000)\n",
    "        problem = problem_df.to_numpy().T\n",
    "        problem = list(problem)\n",
    "        problem.append(capacity)\n",
    "\n",
    "        value = problem[0]\n",
    "        weight = problem[1]\n",
    "        ratio = problem[2]\n",
    "\n",
    "        start = time.time()\n",
    "        test1, test2 = prued_relax(problem, [])\n",
    "        time_prued_sum.append((time.time() - start))\n",
    "\n",
    "        start = time.time()\n",
    "        test1, test2 = pegging(problem)\n",
    "        time_pegging_sum.append((time.time() - start))\n",
    "    time_prued.append(sum(time_prued_sum)/n)\n",
    "    time_pegging.append(sum(time_pegging_sum)/n)"
   ]
  },
  {
   "cell_type": "code",
   "execution_count": 102,
   "metadata": {
    "scrolled": false
   },
   "outputs": [
    {
     "data": {
      "text/html": [
       "<div>\n",
       "<style scoped>\n",
       "    .dataframe tbody tr th:only-of-type {\n",
       "        vertical-align: middle;\n",
       "    }\n",
       "\n",
       "    .dataframe tbody tr th {\n",
       "        vertical-align: top;\n",
       "    }\n",
       "\n",
       "    .dataframe thead th {\n",
       "        text-align: right;\n",
       "    }\n",
       "</style>\n",
       "<table border=\"1\" class=\"dataframe\">\n",
       "  <thead>\n",
       "    <tr style=\"text-align: right;\">\n",
       "      <th></th>\n",
       "      <th>pegging</th>\n",
       "      <th>prued</th>\n",
       "    </tr>\n",
       "  </thead>\n",
       "  <tbody>\n",
       "    <tr>\n",
       "      <td>1</td>\n",
       "      <td>0.001295</td>\n",
       "      <td>0.001494</td>\n",
       "    </tr>\n",
       "    <tr>\n",
       "      <td>1001</td>\n",
       "      <td>0.001047</td>\n",
       "      <td>0.001067</td>\n",
       "    </tr>\n",
       "    <tr>\n",
       "      <td>2001</td>\n",
       "      <td>0.001123</td>\n",
       "      <td>0.001129</td>\n",
       "    </tr>\n",
       "    <tr>\n",
       "      <td>3001</td>\n",
       "      <td>0.001039</td>\n",
       "      <td>0.001087</td>\n",
       "    </tr>\n",
       "    <tr>\n",
       "      <td>4001</td>\n",
       "      <td>0.001026</td>\n",
       "      <td>0.001043</td>\n",
       "    </tr>\n",
       "    <tr>\n",
       "      <td>...</td>\n",
       "      <td>...</td>\n",
       "      <td>...</td>\n",
       "    </tr>\n",
       "    <tr>\n",
       "      <td>95001</td>\n",
       "      <td>0.001417</td>\n",
       "      <td>0.001628</td>\n",
       "    </tr>\n",
       "    <tr>\n",
       "      <td>96001</td>\n",
       "      <td>0.001267</td>\n",
       "      <td>0.001363</td>\n",
       "    </tr>\n",
       "    <tr>\n",
       "      <td>97001</td>\n",
       "      <td>0.001191</td>\n",
       "      <td>0.001319</td>\n",
       "    </tr>\n",
       "    <tr>\n",
       "      <td>98001</td>\n",
       "      <td>0.001184</td>\n",
       "      <td>0.001295</td>\n",
       "    </tr>\n",
       "    <tr>\n",
       "      <td>99001</td>\n",
       "      <td>0.001173</td>\n",
       "      <td>0.001287</td>\n",
       "    </tr>\n",
       "  </tbody>\n",
       "</table>\n",
       "<p>100 rows × 2 columns</p>\n",
       "</div>"
      ],
      "text/plain": [
       "        pegging     prued\n",
       "1      0.001295  0.001494\n",
       "1001   0.001047  0.001067\n",
       "2001   0.001123  0.001129\n",
       "3001   0.001039  0.001087\n",
       "4001   0.001026  0.001043\n",
       "...         ...       ...\n",
       "95001  0.001417  0.001628\n",
       "96001  0.001267  0.001363\n",
       "97001  0.001191  0.001319\n",
       "98001  0.001184  0.001295\n",
       "99001  0.001173  0.001287\n",
       "\n",
       "[100 rows x 2 columns]"
      ]
     },
     "execution_count": 102,
     "metadata": {},
     "output_type": "execute_result"
    }
   ],
   "source": [
    "time_df_100000 = pd.DataFrame({\"pegging\":time_pegging, \n",
    "                        \"prued\":time_prued},\n",
    "                       index=item)\n",
    "time_df_100000"
   ]
  },
  {
   "cell_type": "code",
   "execution_count": 104,
   "metadata": {},
   "outputs": [
    {
     "data": {
      "image/png": "[encoded data removed]",
      "text/plain": [
       "<Figure size 432x288 with 1 Axes>"
      ]
     },
     "metadata": {
      "needs_background": "light"
     },
     "output_type": "display_data"
    }
   ],
   "source": [
    "time_df_100000.plot(xticks=range(1,100000,10000))\n",
    "plt.show()"
   ]
  },
  {
   "cell_type": "code",
   "execution_count": null,
   "metadata": {},
   "outputs": [],
   "source": []
  }
 ],
 "metadata": {
  "kernelspec": {
   "display_name": "Python 3",
   "language": "python",
   "name": "python3"
  },
  "language_info": {
   "codemirror_mode": {
    "name": "ipython",
    "version": 3
   },
   "file_extension": ".py",
   "mimetype": "text/x-python",
   "name": "python",
   "nbconvert_exporter": "python",
   "pygments_lexer": "ipython3",
   "version": "3.7.4"
  }
 },
 "nbformat": 4,
 "nbformat_minor": 2
}
