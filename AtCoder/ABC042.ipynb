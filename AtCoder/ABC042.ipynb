{
 "cells": [
  {
   "cell_type": "markdown",
   "metadata": {},
   "source": [
    "# A\n",
    "日本の誇る美しいリズムとして、五七五というものがあります。いろはちゃんは五七五が大好きです。3つの文節の並びの長さがそれぞれ5,7,5となるようにこの順番で並んでいるとき、その3つの文節の並びは五七五であると言います。並び替えたい3つの文節の長さを表す整数A,B,Cが与えられるので、それらの文節を並び替えて五七五にできるか判定してください。"
   ]
  },
  {
   "cell_type": "code",
   "execution_count": 6,
   "metadata": {},
   "outputs": [
    {
     "name": "stdout",
     "output_type": "stream",
     "text": [
      "7 5 5\n",
      "Yes\n"
     ]
    }
   ],
   "source": [
    "A = input().split(\" \")\n",
    "A = [int(a) for a in A]\n",
    "\n",
    "if A.count(5) == 2 and A.count(7) == 1:\n",
    "    print(\"YES\")\n",
    "else:\n",
    "    print(\"NO\")"
   ]
  },
  {
   "cell_type": "markdown",
   "metadata": {},
   "source": [
    "# B\n",
    "いろはちゃんは 長さ L の文字列を N 個持っており、それぞれ S 1 , S 2 , . . . , S N です。 それらの文字列を好きな順番で全て結合してできる文字列のうち、もっとも辞書順で小さいものを求めてください。 なお、ある文字列 s = s 1 s 2 s 3 ... s n と t = t 1 t 2 t 3 ... t m について、以下のどちらかを満たすとき、辞書順比較で s < t であるといいます。 ある整数 i ( 1 ≦ i ≦ m i n ( n , m ) ) に関して、 1 ≦ j < i を満たす任意の整数 j において s j = t j が成立し、かつ s i < t i が成立する。 任意の整数 i ( 1 ≦ i ≦ m i n ( n , m ) ) に関して s i = t i が成立し、かつ n < m が成立する。"
   ]
  },
  {
   "cell_type": "code",
   "execution_count": 24,
   "metadata": {},
   "outputs": [
    {
     "name": "stdout",
     "output_type": "stream",
     "text": [
      "3 3\n",
      "axx\n",
      "bxx\n",
      "a\n",
      "aaxxbxx\n"
     ]
    }
   ],
   "source": [
    "N, L = [int(i) for i in input().split(\" \")]\n",
    "S = [input() for i in range(N)]\n",
    "\n",
    "S = sorted(S)\n",
    "res = \"\"\n",
    "for s in S:\n",
    "    res += s\n",
    "print(res)"
   ]
  },
  {
   "cell_type": "markdown",
   "metadata": {},
   "source": [
    "# C\n",
    "いろはちゃんはこだわりもので、嫌いな数字が K 個あり、それぞれ D 1 , D 2 , . . . , D K です。 いろはちゃんはお店でお買い物をしていて、 N 円の品物を買おうとしています。 もちろん、この品物は N 円以上のお金を支払えば買うことができます。 しかし、先ほど述べたようにいろはちゃんは強いこだわりがあるので、自分がお店に支払う金額の 10 進表記にいろはちゃんの嫌いな数字が出現しないような最も少ない金額を支払おうとします。 いろはちゃんが支払う金額を求めてください。"
   ]
  },
  {
   "cell_type": "code",
   "execution_count": 48,
   "metadata": {},
   "outputs": [
    {
     "name": "stdout",
     "output_type": "stream",
     "text": [
      "1000 8\n",
      "1 3 4 5 6 7 8 9\n"
     ]
    }
   ],
   "source": [
    "N, K = [int(i) for i in input().split(\" \")]\n",
    "D = input().split(\" \")\n",
    "\n",
    "for i in range(N, 1000000):\n",
    "    if len(list(set(D) & set(str(i)))) == 0:\n",
    "        print(i)\n",
    "        break"
   ]
  },
  {
   "cell_type": "markdown",
   "metadata": {},
   "source": [
    "# D\n",
    "縦 H マス、横 W マスのマス目があります。 いろはちゃんは、今一番左上のマス目にいます。 そして、右か下に1マス移動することを繰り返し、一番右下のマス目へと移動します。 ただし、下から A 個以内、かつ左から B 個以内のマス目へは移動することは出来ません。 移動する方法は何通りあるか求めてください。 なお、答えは非常に大きくなることがあるので、答えは 10 9 + 7 で割ったあまりを出力してください。"
   ]
  },
  {
   "cell_type": "markdown",
   "metadata": {},
   "source": [
    "**TLE**"
   ]
  },
  {
   "cell_type": "code",
   "execution_count": 107,
   "metadata": {},
   "outputs": [
    {
     "name": "stdout",
     "output_type": "stream",
     "text": [
      "4 4 2 2\n",
      "10\n"
     ]
    }
   ],
   "source": [
    "H, W, A, B = [int(i) for i in input().split(\" \")]\n",
    "\n",
    "from collections import deque\n",
    "\n",
    "per = 10**9 + 7\n",
    "\n",
    "goal_cnt = 0\n",
    "que = deque([])\n",
    "que.append((0, 0))\n",
    "\n",
    "while que:\n",
    "    p = que.popleft()\n",
    "    if p[0] == H-1 and p[1] == W-1:\n",
    "        goal_cnt += 1\n",
    "        goal_cnt %= per\n",
    "    else:\n",
    "        for vh, vw in [[1, 0], [0, 1]]:\n",
    "            pos_h = p[0] + vh\n",
    "            pos_w = p[1] + vw\n",
    "            \n",
    "            if 0 <= pos_h <= H-1 and 0 <= pos_w <= W-1 and not(pos_w <= B-1 and pos_h >= H - A):\n",
    "                que.append((pos_h, pos_w))\n",
    "print(goal_cnt)"
   ]
  },
  {
   "cell_type": "markdown",
   "metadata": {},
   "source": [
    "組み合わせで解く"
   ]
  },
  {
   "cell_type": "markdown",
   "metadata": {},
   "source": [
    "**AC**"
   ]
  },
  {
   "cell_type": "code",
   "execution_count": 112,
   "metadata": {},
   "outputs": [
    {
     "name": "stdout",
     "output_type": "stream",
     "text": [
      "4 4 2 2\n",
      "10\n"
     ]
    }
   ],
   "source": [
    "U = 2*10**5\n",
    "MOD = 10**9+7\n",
    " \n",
    "fact = [1] * (U+1)\n",
    "fact_inv = [1] * (U+1)\n",
    "\n",
    "# 階乗のテーブル作成\n",
    "for i in range(1, U+1):\n",
    "    fact[i] = (fact[i-1] * i) % MOD\n",
    "\n",
    "# 階乗の逆元のテーブル作成\n",
    "fact_inv[U] = pow(fact[U], MOD-2, MOD)\n",
    "for i in range(U, 0, -1):\n",
    "    fact_inv[i-1] = (fact_inv[i] * i) % MOD\n",
    "\n",
    "def comb(n, k):\n",
    "    if k < 0 or k > n:\n",
    "        return 0\n",
    "    x = fact[n]\n",
    "    x *= fact_inv[k]\n",
    "    x %= MOD\n",
    "    x *= fact_inv[n-k]\n",
    "    x %= MOD\n",
    "    return x\n",
    "\n",
    "H, W, A, B = [int(i) for i in input().split(\" \")]\n",
    "\n",
    "ans = 0\n",
    "# 経路の足し上げ C(縦+横, 縦(or横)) (重複のある組み合わせ)\n",
    "for i in range(B, W):\n",
    "    ans += comb((H-A-1) + i, i) * comb((A - 1) + (W-1-i), W-1- i) % MOD\n",
    "    ans %= MOD\n",
    "print(ans)"
   ]
  },
  {
   "cell_type": "code",
   "execution_count": null,
   "metadata": {},
   "outputs": [],
   "source": []
  }
 ],
 "metadata": {
  "kernelspec": {
   "display_name": "Python 3",
   "language": "python",
   "name": "python3"
  },
  "language_info": {
   "codemirror_mode": {
    "name": "ipython",
    "version": 3
   },
   "file_extension": ".py",
   "mimetype": "text/x-python",
   "name": "python",
   "nbconvert_exporter": "python",
   "pygments_lexer": "ipython3",
   "version": "3.7.7"
  }
 },
 "nbformat": 4,
 "nbformat_minor": 4
}
