{
 "cells": [
  {
   "cell_type": "markdown",
   "metadata": {},
   "source": [
    "# A\n",
    "競プロ幼稚園にはN人の子供がいます。えび先生は、子供たちを一列に並べ、一人目にはキャンディーを1個,二人目には2個,...,N人目にはN個あげることにしました。必要なキャンディーの個数の合計は何個でしょう?"
   ]
  },
  {
   "cell_type": "code",
   "execution_count": 12,
   "metadata": {},
   "outputs": [
    {
     "name": "stdout",
     "output_type": "stream",
     "text": [
      "3\n",
      "6\n"
     ]
    }
   ],
   "source": [
    "N = int(input())\n",
    "print(sum([i for i in range(1, N+1)]))"
   ]
  },
  {
   "cell_type": "markdown",
   "metadata": {},
   "source": [
    "# B\n",
    "しぐはキーボードを製作しました。シンプルさを極限まで追求したこのキーボードには、0 キー、1 キー、バックスペースキーの 3 つしかキーがありません。 手始めに、しぐはこのキーボードで簡単なテキストエディタを操作してみることにしました。このエディタには常に一つの文字列が表示されます（文字列が空のこともあります）。エディタを起動した直後では、文字列は空です。キーボードの各キーを押すと、文字列が次のように変化します。\n",
    "* 0 キー: 文字列の右端に文字 0 が挿入される。 \n",
    "* 1 キー: 文字列の右端に文字 1 が挿入される。 \n",
    "* バックスペースキー: 文字列が空なら、何も起こらない。そうでなければ、文字列の右端の 1 文字が削除される。 \n",
    "\n",
    "しぐはエディタを起動し、これらのキーを何回か押しました。しぐが押したキーを順番に記録した文字列 s が与えられます。 s の中の文字 0 は 0 キー、文字 1 は 1 キー、文字 B はバックスペースキーを表します。いま、エディタの画面にはどのような文字列が表示されているでしょうか？"
   ]
  },
  {
   "cell_type": "code",
   "execution_count": 10,
   "metadata": {},
   "outputs": [
    {
     "name": "stdout",
     "output_type": "stream",
     "text": [
      "01B0\n",
      "00\n"
     ]
    }
   ],
   "source": [
    "S = input()\n",
    "ans = \"\"\n",
    "\n",
    "for s in S:\n",
    "    if s == \"0\":\n",
    "        ans = ans + \"0\"\n",
    "    elif s == \"1\":\n",
    "        ans = ans + \"1\"\n",
    "    else:\n",
    "        if ans:\n",
    "            ans = ans[:-1]\n",
    "print(ans)"
   ]
  },
  {
   "cell_type": "markdown",
   "metadata": {},
   "source": [
    "# C\n",
    "N個の整数a1,a2,..,aNが与えられます。えび君はこれらを書き換えて全て同じ整数にしようとしています。各ai(1≦i≦N)は高々一回しか書き換えられません(書き換えなくても良い)。整数xを整数yに書き換えるとき、コストが(x−y)2かかります。仮にai=aj(i≠j)だとしても、ひとつ分のコストで同時に書き換えることは出来ません(入出力例2を参照)。えび君が目的を達成するのに必要なコストの総和の最小値を求めてください。"
   ]
  },
  {
   "cell_type": "code",
   "execution_count": 19,
   "metadata": {},
   "outputs": [
    {
     "name": "stdout",
     "output_type": "stream",
     "text": [
      "3\n",
      "4 2 5\n"
     ]
    }
   ],
   "source": [
    "N = int(input())\n",
    "A = input().split(\" \")\n",
    "A = [int(i) for i in A]\n",
    "\n",
    "print(min([sum([(a-i)**2 for a in A]) for i in range(-100, 101)]))"
   ]
  },
  {
   "cell_type": "markdown",
   "metadata": {},
   "source": [
    "# D\n",
    "文字列 t について、 t の長さが 2 以上であり、かつ t の中の文字のうち過半数が同じ文字であるとき、 t をアンバランスであると呼ぶことにします。例えば、voodoo や melee はアンバランスであり、noon や a はアンバランスではありません。  \n",
    "小文字のアルファベットからなる文字列 s が与えられます。 s にアンバランスな (連続する) 部分文字列が存在するか判定してください。存在する場合は、 s の中でそのような部分文字列が存在する位置を一つ示してください。"
   ]
  },
  {
   "cell_type": "markdown",
   "metadata": {},
   "source": [
    "**TLE**"
   ]
  },
  {
   "cell_type": "code",
   "execution_count": 50,
   "metadata": {},
   "outputs": [
    {
     "name": "stdout",
     "output_type": "stream",
     "text": [
      "ada\n"
     ]
    }
   ],
   "source": [
    "S = input()\n",
    "\n",
    "def f (S):\n",
    "    for i, s in enumerate(S):\n",
    "        cnt = dict()\n",
    "        cnt = {s:1}\n",
    "        for j, e in enumerate(S[i+1:]):\n",
    "            if e in cnt.keys():\n",
    "                cnt[e] += 1\n",
    "            else:\n",
    "                cnt[e] = 1\n",
    "            if max(cnt.values()) / sum(cnt.values()) > 0.5:\n",
    "                return \"{} {}\".format(i+1, (i+1)+j+1)\n",
    "    return \"-1 -1\"\n",
    "print(f(S))"
   ]
  },
  {
   "cell_type": "markdown",
   "metadata": {},
   "source": [
    "**AC**"
   ]
  },
  {
   "cell_type": "code",
   "execution_count": 52,
   "metadata": {},
   "outputs": [
    {
     "name": "stdout",
     "output_type": "stream",
     "text": [
      "ada\n",
      "1 3\n"
     ]
    }
   ],
   "source": [
    "S = input()\n",
    "def f(S):\n",
    "    for i in range(len(S)-1):\n",
    "        if S[i] == S[i+1]:\n",
    "            return \"{} {}\".format(i+1, i+2)\n",
    "        elif i < len(S)-2 and S[i] == S[i+2]:\n",
    "            return \"{} {}\".format(i+1, i+3)\n",
    "        else:\n",
    "            pass\n",
    "    return \"-1 -1\"\n",
    "print(f(S))"
   ]
  },
  {
   "cell_type": "code",
   "execution_count": null,
   "metadata": {},
   "outputs": [],
   "source": []
  }
 ],
 "metadata": {
  "kernelspec": {
   "display_name": "Python 3",
   "language": "python",
   "name": "python3"
  },
  "language_info": {
   "codemirror_mode": {
    "name": "ipython",
    "version": 3
   },
   "file_extension": ".py",
   "mimetype": "text/x-python",
   "name": "python",
   "nbconvert_exporter": "python",
   "pygments_lexer": "ipython3",
   "version": "3.7.3"
  }
 },
 "nbformat": 4,
 "nbformat_minor": 2
}
