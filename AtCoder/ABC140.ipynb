{
 "cells": [
  {
   "cell_type": "code",
   "execution_count": null,
   "metadata": {},
   "outputs": [],
   "source": [
    "N = int(input())\n",
    "A = input().split(\" \")\n",
    "A = [int(i) for i in A]"
   ]
  },
  {
   "cell_type": "markdown",
   "metadata": {},
   "source": [
    "# A\n",
    "高橋君は3桁のパスワードを設定しようとしています。  \n",
    "使える文字が1以上N以下の数字のみであるとき、設定できるパスワードが全部で何種類であるかを答えてください。"
   ]
  },
  {
   "cell_type": "code",
   "execution_count": 2,
   "metadata": {},
   "outputs": [
    {
     "name": "stdout",
     "output_type": "stream",
     "text": [
      "1\n",
      "1\n"
     ]
    }
   ],
   "source": [
    "N = int(input())\n",
    "print(N**3)"
   ]
  },
  {
   "cell_type": "markdown",
   "metadata": {},
   "source": [
    "# B\n",
    "高橋くんは N 種類の料理が食べ放題のビュッフェに行き、全種類の料理 (料理 1 , 料理 2 , … , 料理 N ) を 1 度ずつ食べました。  \n",
    "高橋くんが i ( 1 ≤ i ≤ N ) 番目に食べた料理は料理 A i でした。  \n",
    "高橋くんは、料理 i ( 1 ≤ i ≤ N ) を食べると満足度 B i を得ます。   \n",
    "また、料理 i ( 1 ≤ i ≤ N − 1 ) を食べた直後に料理 i + 1 を食べると満足度 C i を追加で得ます。   \n",
    "高橋くんが得た満足度の合計を求めてください。"
   ]
  },
  {
   "cell_type": "code",
   "execution_count": 16,
   "metadata": {},
   "outputs": [
    {
     "name": "stdout",
     "output_type": "stream",
     "text": [
      "4\n",
      "2 3 4 1\n",
      "13 5 8 24\n",
      "45 9 15\n",
      "74\n"
     ]
    }
   ],
   "source": [
    "N = int(input())\n",
    "A = [int(i) for i in input().split(\" \")]\n",
    "B = [int(i) for i in input().split(\" \")]\n",
    "C = [int(i) for i in input().split(\" \")]\n",
    "\n",
    "ans = 0\n",
    "for i in range(N):\n",
    "    ans += B[A[i]-1]\n",
    "    if i > 0 and A[i] - A[i-1] == 1:\n",
    "        ans += C[A[i-1]-1]\n",
    "print(ans)"
   ]
  },
  {
   "cell_type": "markdown",
   "metadata": {},
   "source": [
    "# C\n",
    "長さNの値の分からない整数列Aがあります。長さN−1の整数列Bが与えられます。  \n",
    "このとき、Bi≥max(Ai,Ai+1)が成立することが分かっています。Aの要素の総和として考えられる値の最大値を求めてください。"
   ]
  },
  {
   "cell_type": "code",
   "execution_count": 18,
   "metadata": {},
   "outputs": [
    {
     "name": "stdout",
     "output_type": "stream",
     "text": [
      "6\n",
      "0 153 10 10 23\n"
     ]
    }
   ],
   "source": [
    "N = int(input())\n",
    "B = [int(i) for i in input().split(\" \")]\n",
    "\n",
    "A = [0] * N\n",
    "for i in range(1, N-1):\n",
    "    A[i] = min(B[i-1], B[i])\n",
    "A[0] = max(B[0], A[1])\n",
    "A[N-1] = max(A[N-2], B[N-2])\n",
    "print(sum(A))"
   ]
  },
  {
   "cell_type": "markdown",
   "metadata": {},
   "source": [
    "# D\n",
    "東西一列に N 人の人が並んでいます。   \n",
    "各人の状態を表す長さ N の文字列 S が与えられます。 西から i 番目の人は、文字列 S の i 文字目が L ならば西を、R ならば東を向いています。 どの人も、目の前の人が自分と同じ方向を向いていれば幸福です。 ただし、目の前に人が居ない場合、幸福ではありません。   \n",
    "あなたは、以下の操作を 0 回以上 K 回以下の好きな回数だけ行います。  \n",
    "操作: 1 ≤ l ≤ r ≤ N を満たす整数 l , r を選ぶ。西から l , l + 1 , . . . , r 番目の人の列を 180 度回転する。すなわち、 i = 0 , 1 , . . . , r − l について、西から l + i 番目の人は操作後には西から r − i 番目に移動し、元々西を向いていれば東を、東を向いていれば西を向く。  \n",
    "幸福である人は最大で何人にできるでしょうか。"
   ]
  },
  {
   "cell_type": "code",
   "execution_count": 142,
   "metadata": {},
   "outputs": [
    {
     "name": "stdout",
     "output_type": "stream",
     "text": [
      "10 1\n",
      "LLLLLRRRRR\n",
      "10\n"
     ]
    }
   ],
   "source": [
    "N, K = input().split(\" \")\n",
    "N, K = int(N), int(K)\n",
    "S = input()\n",
    "\n",
    "def syukuyaku(S):\n",
    "    if len(S) <= 1:\n",
    "        return S\n",
    "    res = S[0]\n",
    "    cnt = 0\n",
    "    i = 0\n",
    "    while i < len(S)-1:\n",
    "        if S[i] == S[i+1]:\n",
    "            while i < len(S)-1 and S[i] == S[i+1]:\n",
    "                cnt += 1\n",
    "                i += 1\n",
    "        else:\n",
    "            i += 1\n",
    "            res += S[i]\n",
    "    return res, cnt\n",
    "\n",
    "S_ ,cnt = syukuyaku(S)\n",
    "\n",
    "if S_.count(\"L\") == S_.count(\"R\"):\n",
    "    if S_.count(\"L\") <= K:\n",
    "        print(cnt + S_.count(\"L\")*2)\n",
    "    else:\n",
    "        print(cnt + K * 2)\n",
    "elif S_.count(\"L\") > S_.count(\"R\"):\n",
    "    if S_.count(\"L\") <= K:\n",
    "        print(len(S)-1)\n",
    "    else:\n",
    "        print(cnt + K * 2)\n",
    "else:\n",
    "    if S_.count(\"R\") <= K:\n",
    "        print(len(S)-1)\n",
    "    else:\n",
    "        print(cnt + K * 2)"
   ]
  },
  {
   "cell_type": "markdown",
   "metadata": {},
   "source": [
    "**AC**"
   ]
  },
  {
   "cell_type": "code",
   "execution_count": 162,
   "metadata": {},
   "outputs": [
    {
     "name": "stdout",
     "output_type": "stream",
     "text": [
      "10 1\n",
      "LLLLLRRRRR\n",
      "9\n"
     ]
    }
   ],
   "source": [
    "import numpy as np\n",
    "\n",
    "N, K = input().split(\" \")\n",
    "N, K = int(N), int(K)\n",
    "\n",
    "S = np.array(list(input()), dtype='U1')\n",
    " \n",
    "x = np.sum(S[1:] == S[:-1])\n",
    " \n",
    "x += 2*K\n",
    "x = min(x, N-1)\n",
    "print(x)"
   ]
  },
  {
   "cell_type": "markdown",
   "metadata": {},
   "source": [
    "# E\n",
    "{1,2,…,N}の順列Pが与えられます。  \n",
    "ペア(L,R)(1≤L<R≤N)について、PL,PL+1,…,PRの中で2番目に大きいものをXL,Rとします。  \n",
    "N−1∑L=1N∑R=L+1XL,Rを求めてください。"
   ]
  },
  {
   "cell_type": "markdown",
   "metadata": {},
   "source": [
    "**TLE**"
   ]
  },
  {
   "cell_type": "code",
   "execution_count": 160,
   "metadata": {},
   "outputs": [
    {
     "name": "stdout",
     "output_type": "stream",
     "text": [
      "8\n",
      "8 2 7 3 4 5 6 1\n"
     ]
    }
   ],
   "source": [
    "N = int(input())\n",
    "P = [int(i) for i in input().split(\" \")]\n",
    "\n",
    "ans = 0\n",
    "for L in range(N-1):\n",
    "    for R in range(L+1, N):\n",
    "        ans += sorted(P[L:R+1], reverse=True)[1]\n",
    "print(ans)"
   ]
  },
  {
   "cell_type": "markdown",
   "metadata": {},
   "source": [
    "**TLE**"
   ]
  },
  {
   "cell_type": "code",
   "execution_count": 163,
   "metadata": {},
   "outputs": [
    {
     "name": "stdout",
     "output_type": "stream",
     "text": [
      "8\n",
      "8 2 7 3 4 5 6 1\n"
     ]
    }
   ],
   "source": [
    "N = int(input())\n",
    "P = [int(i) for i in input().split(\" \")]\n",
    "\n",
    "ans = 0\n",
    "for L in range(N-1):\n",
    "    for R in range(L+1, N):\n",
    "        if 2 <= len(P[L:R+1]) <= 3:\n",
    "            seq = sorted(P[L:R+1], reverse=True)\n",
    "        else:\n",
    "            if seq[0] > P[R] > seq[1]:\n",
    "                seq = [seq[0], P[R], seq[1]]\n",
    "            elif P[R] > seq[0]:\n",
    "                seq = [P[R], seq[0], seq[1]]\n",
    "            elif seq[1] > P[R] > seq[2]:\n",
    "                seq = [seq[0], seq[1], P[R]]\n",
    "        ans += seq[1]\n",
    "print(ans)"
   ]
  },
  {
   "cell_type": "markdown",
   "metadata": {},
   "source": [
    "**AC**"
   ]
  },
  {
   "cell_type": "code",
   "execution_count": 196,
   "metadata": {},
   "outputs": [
    {
     "name": "stdout",
     "output_type": "stream",
     "text": [
      "5\n",
      "5 4 3 2 1\n"
     ]
    }
   ],
   "source": [
    "N = int(input())\n",
    "P = [int(i) for i in input().split(\" \")]\n",
    "\n",
    "# 各数字が何番目に入っているかを保存する\n",
    "pos = [0] * (N + 1)\n",
    "for i in range(N):\n",
    "    pos[P[i]] = i + 1\n",
    "\n",
    "l = [0]+[i for i in range(N + 1)]\n",
    "r = [i + 1 for i in range(N + 1)] + [N + 1]\n",
    "\n",
    "# 1から順番に見ていく\n",
    "ans = 0\n",
    "for i in range(1, N + 1):\n",
    "    idx = pos[i]\n",
    "    l1, r1 = l[idx], r[idx]\n",
    "    l2, r2 = l[l1], r[r1]\n",
    "    ans += i * ((l1 - l2) * (r1 - idx) + (idx - l1) * (r2 - r1))\n",
    "    l[r1], r[l1] = l1, r1\n",
    "print(ans)"
   ]
  },
  {
   "cell_type": "code",
   "execution_count": null,
   "metadata": {},
   "outputs": [],
   "source": []
  }
 ],
 "metadata": {
  "kernelspec": {
   "display_name": "Python 3",
   "language": "python",
   "name": "python3"
  },
  "language_info": {
   "codemirror_mode": {
    "name": "ipython",
    "version": 3
   },
   "file_extension": ".py",
   "mimetype": "text/x-python",
   "name": "python",
   "nbconvert_exporter": "python",
   "pygments_lexer": "ipython3",
   "version": "3.7.3"
  }
 },
 "nbformat": 4,
 "nbformat_minor": 2
}
