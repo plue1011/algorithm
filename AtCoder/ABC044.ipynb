{
 "cells": [
  {
   "cell_type": "code",
   "execution_count": null,
   "metadata": {},
   "outputs": [],
   "source": [
    "N = int(input())\n",
    "A = input().split(\" \")\n",
    "A = [int(i) for i in A]"
   ]
  },
  {
   "cell_type": "markdown",
   "metadata": {},
   "source": [
    "# A\n",
    "1 軒のホテルがあります。 このホテルの宿泊費は、次のようになっています。 \n",
    "* 最初の K 泊までは、 1 泊あたり X 円\n",
    "* K + 1 泊目以降は、 1 泊あたり Y 円 高橋君は、このホテルに N 泊連続で宿泊することにしました。 \n",
    "\n",
    "高橋君の宿泊費は合計で何円になるか求めてください。"
   ]
  },
  {
   "cell_type": "code",
   "execution_count": 4,
   "metadata": {
    "scrolled": true
   },
   "outputs": [
    {
     "name": "stdout",
     "output_type": "stream",
     "text": [
      "2\n",
      "3\n",
      "10000\n",
      "9000\n",
      "20000\n"
     ]
    }
   ],
   "source": [
    "N = int(input())\n",
    "K = int(input())\n",
    "X = int(input())\n",
    "Y = int(input())\n",
    "\n",
    "print(sum([X if K >= i else Y for i in range(1, N+1)]))"
   ]
  },
  {
   "cell_type": "markdown",
   "metadata": {},
   "source": [
    "# B\n",
    "wを、英小文字のみからなる文字列とします。wが以下の条件を満たすならば、wを美しい文字列と呼ぶことにします。\n",
    "* どの英小文字も、w中に偶数回出現する。\n",
    "\n",
    "文字列wが与えられます。wが美しい文字列かどうか判定してください。"
   ]
  },
  {
   "cell_type": "code",
   "execution_count": 11,
   "metadata": {},
   "outputs": [
    {
     "name": "stdout",
     "output_type": "stream",
     "text": [
      "hthth\n",
      "No\n"
     ]
    }
   ],
   "source": [
    "w = input()\n",
    "\n",
    "def f (w):\n",
    "    for s in w:\n",
    "        if w.count(s) % 2 != 0:\n",
    "            return 0\n",
    "    return 1\n",
    "\n",
    "if f(w) == 1:\n",
    "    print(\"Yes\")\n",
    "else:\n",
    "    print(\"No\")"
   ]
  },
  {
   "cell_type": "markdown",
   "metadata": {},
   "source": [
    "# C\n",
    "高橋君は、 N 枚のカードを持っています。 i ( 1 ≤ i ≤ N ) 番目のカードには、整数 x i が書かれています。 高橋君は、これらのカードの中から 1 枚以上を選び、 選んだカードに書かれた整数の平均をちょうど A にしたいと考えています。 そのようなカードの選び方が何通りあるか求めてください。"
   ]
  },
  {
   "cell_type": "markdown",
   "metadata": {},
   "source": [
    "**TLE**"
   ]
  },
  {
   "cell_type": "code",
   "execution_count": 21,
   "metadata": {},
   "outputs": [
    {
     "name": "stdout",
     "output_type": "stream",
     "text": [
      "3 8\n",
      "6 6 9\n"
     ]
    }
   ],
   "source": [
    "N, A = input().split(\" \")\n",
    "N, A = int(N), int(A)\n",
    "x = input().split(\" \")\n",
    "x = [int(i) for i in x]\n",
    "\n",
    "import itertools\n",
    "\n",
    "cnt = 0\n",
    "for n in range(1, N+1):\n",
    "    for i in itertools.combinations(x, n):\n",
    "        if sum(i) / n == A:\n",
    "            cnt += 1\n",
    "print(cnt)"
   ]
  },
  {
   "cell_type": "markdown",
   "metadata": {},
   "source": [
    "**AC**"
   ]
  },
  {
   "cell_type": "code",
   "execution_count": 32,
   "metadata": {},
   "outputs": [
    {
     "name": "stdout",
     "output_type": "stream",
     "text": [
      "4 8\n",
      "7 9 8 9\n"
     ]
    }
   ],
   "source": [
    "N, A = input().split(\" \")\n",
    "N, A = int(N), int(A)\n",
    "x = input().split(\" \")\n",
    "x = [int(i) for i in x]\n",
    "y = [0]+[int(i)-A for i in x]\n",
    "X = max(x+[A])\n",
    "\n",
    "dp = [[0 for t in range(2*N*X+1)] for j in range(N+1)]\n",
    "\n",
    "for j in range(N+1):\n",
    "    for t in range(2*N*X+1):\n",
    "        if j == 0 and t == N*X:  # 0枚の時は0しか達成できない\n",
    "            dp[j][t] = 1\n",
    "        elif j >= 1 and (t - y[j-1] < 0 or t-y[j] > 2*N*X):  # xの値が平均Aを超えてしまう場合は、前回の結果から場合の総数に変化なし\n",
    "            dp[j][t] = dp[j-1][t]\n",
    "        elif j >= 1 and 0 <= t-y[j-1] <= 2*N*X:  # 前回の場合の総数に、今回の数を足して0になる場合の総数を足す\n",
    "            dp[j][t] = dp[j-1][t] + dp[j-1][t-y[j]]\n",
    "        else:\n",
    "            dp[j][t] = 0\n",
    "print(dp[N][N*X] - 1)"
   ]
  },
  {
   "cell_type": "markdown",
   "metadata": {},
   "source": [
    "# D"
   ]
  },
  {
   "cell_type": "markdown",
   "metadata": {},
   "source": [
    "**TLE**"
   ]
  },
  {
   "cell_type": "code",
   "execution_count": 57,
   "metadata": {},
   "outputs": [
    {
     "name": "stdout",
     "output_type": "stream",
     "text": [
      "31415926535\n",
      "1\n"
     ]
    },
    {
     "ename": "KeyboardInterrupt",
     "evalue": "",
     "output_type": "error",
     "traceback": [
      "\u001b[0;31m---------------------------------------------------------------------------\u001b[0m",
      "\u001b[0;31mKeyboardInterrupt\u001b[0m                         Traceback (most recent call last)",
      "\u001b[0;32m<ipython-input-57-0421df8ceb0d>\u001b[0m in \u001b[0;36m<module>\u001b[0;34m\u001b[0m\n\u001b[1;32m     17\u001b[0m     \u001b[0;32mreturn\u001b[0m \u001b[0;34m-\u001b[0m\u001b[0;36m1\u001b[0m\u001b[0;34m\u001b[0m\u001b[0;34m\u001b[0m\u001b[0m\n\u001b[1;32m     18\u001b[0m \u001b[0;34m\u001b[0m\u001b[0m\n\u001b[0;32m---> 19\u001b[0;31m \u001b[0mprint\u001b[0m\u001b[0;34m(\u001b[0m\u001b[0msolve\u001b[0m\u001b[0;34m(\u001b[0m\u001b[0mN\u001b[0m\u001b[0;34m,\u001b[0m \u001b[0mS\u001b[0m\u001b[0;34m)\u001b[0m\u001b[0;34m)\u001b[0m\u001b[0;34m\u001b[0m\u001b[0;34m\u001b[0m\u001b[0m\n\u001b[0m",
      "\u001b[0;32m<ipython-input-57-0421df8ceb0d>\u001b[0m in \u001b[0;36msolve\u001b[0;34m(N, S)\u001b[0m\n\u001b[1;32m     13\u001b[0m     \u001b[0;32melse\u001b[0m\u001b[0;34m:\u001b[0m\u001b[0;34m\u001b[0m\u001b[0;34m\u001b[0m\u001b[0m\n\u001b[1;32m     14\u001b[0m         \u001b[0;32mfor\u001b[0m \u001b[0mb\u001b[0m \u001b[0;32min\u001b[0m \u001b[0mrange\u001b[0m\u001b[0;34m(\u001b[0m\u001b[0;36m2\u001b[0m\u001b[0;34m,\u001b[0m \u001b[0mN\u001b[0m\u001b[0;34m)\u001b[0m\u001b[0;34m:\u001b[0m\u001b[0;34m\u001b[0m\u001b[0;34m\u001b[0m\u001b[0m\n\u001b[0;32m---> 15\u001b[0;31m             \u001b[0;32mif\u001b[0m \u001b[0mf\u001b[0m\u001b[0;34m(\u001b[0m\u001b[0mb\u001b[0m\u001b[0;34m,\u001b[0m \u001b[0mN\u001b[0m\u001b[0;34m)\u001b[0m \u001b[0;34m==\u001b[0m \u001b[0mS\u001b[0m\u001b[0;34m:\u001b[0m\u001b[0;34m\u001b[0m\u001b[0;34m\u001b[0m\u001b[0m\n\u001b[0m\u001b[1;32m     16\u001b[0m                 \u001b[0;32mreturn\u001b[0m \u001b[0mb\u001b[0m\u001b[0;34m\u001b[0m\u001b[0;34m\u001b[0m\u001b[0m\n\u001b[1;32m     17\u001b[0m     \u001b[0;32mreturn\u001b[0m \u001b[0;34m-\u001b[0m\u001b[0;36m1\u001b[0m\u001b[0;34m\u001b[0m\u001b[0;34m\u001b[0m\u001b[0m\n",
      "\u001b[0;32m<ipython-input-57-0421df8ceb0d>\u001b[0m in \u001b[0;36mf\u001b[0;34m(b, n)\u001b[0m\n\u001b[1;32m      6\u001b[0m         \u001b[0;32mreturn\u001b[0m \u001b[0mn\u001b[0m\u001b[0;34m\u001b[0m\u001b[0;34m\u001b[0m\u001b[0m\n\u001b[1;32m      7\u001b[0m     \u001b[0;32melse\u001b[0m\u001b[0;34m:\u001b[0m\u001b[0;34m\u001b[0m\u001b[0;34m\u001b[0m\u001b[0m\n\u001b[0;32m----> 8\u001b[0;31m         \u001b[0;32mreturn\u001b[0m \u001b[0mf\u001b[0m\u001b[0;34m(\u001b[0m\u001b[0mb\u001b[0m\u001b[0;34m,\u001b[0m \u001b[0mint\u001b[0m\u001b[0;34m(\u001b[0m\u001b[0mn\u001b[0m\u001b[0;34m/\u001b[0m\u001b[0mb\u001b[0m\u001b[0;34m)\u001b[0m\u001b[0;34m)\u001b[0m \u001b[0;34m+\u001b[0m \u001b[0;34m(\u001b[0m\u001b[0mn\u001b[0m \u001b[0;34m%\u001b[0m \u001b[0mb\u001b[0m\u001b[0;34m)\u001b[0m\u001b[0;34m\u001b[0m\u001b[0;34m\u001b[0m\u001b[0m\n\u001b[0m\u001b[1;32m      9\u001b[0m \u001b[0;34m\u001b[0m\u001b[0m\n\u001b[1;32m     10\u001b[0m \u001b[0;32mdef\u001b[0m \u001b[0msolve\u001b[0m\u001b[0;34m(\u001b[0m\u001b[0mN\u001b[0m\u001b[0;34m,\u001b[0m \u001b[0mS\u001b[0m\u001b[0;34m)\u001b[0m\u001b[0;34m:\u001b[0m\u001b[0;34m\u001b[0m\u001b[0;34m\u001b[0m\u001b[0m\n",
      "\u001b[0;31mKeyboardInterrupt\u001b[0m: "
     ]
    }
   ],
   "source": [
    "N = int(input())\n",
    "S = int(input())\n",
    "\n",
    "def f(b, n):\n",
    "    if n < b:\n",
    "        return n\n",
    "    else:\n",
    "        return f(b, int(n/b)) + (n % b)\n",
    "    \n",
    "def solve(N, S):\n",
    "    if N == S:\n",
    "        return N+1\n",
    "    else:\n",
    "        for b in range(2, N):\n",
    "            if f(b, N) == S:\n",
    "                return b\n",
    "    return -1\n",
    "\n",
    "print(solve(N, S))"
   ]
  },
  {
   "cell_type": "markdown",
   "metadata": {},
   "source": [
    "**AC**"
   ]
  },
  {
   "cell_type": "code",
   "execution_count": 68,
   "metadata": {},
   "outputs": [
    {
     "name": "stdout",
     "output_type": "stream",
     "text": [
      "87654\n",
      "12345\n",
      "-1\n"
     ]
    }
   ],
   "source": [
    "N = int(input())\n",
    "S = int(input())\n",
    "\n",
    "def f(b, n):\n",
    "    if n < b:\n",
    "        return n\n",
    "    else:\n",
    "        return f(b, n//b) + (n % b)\n",
    "\n",
    "def solve(N, S):\n",
    "    if S > N:\n",
    "        return -1\n",
    "    elif N == S:\n",
    "        return N+1\n",
    "    else:\n",
    "        for b in range(2, int(N**(1/2))+1):\n",
    "            if f(b, N) == S:\n",
    "                return b\n",
    "        for p in range(int(N**(1/2)), 0, -1):\n",
    "            if (N - S) % p == 0:\n",
    "                b = (N - S) // p + 1\n",
    "                if f(b, N) == S:\n",
    "                    return b\n",
    "        return -1\n",
    "\n",
    "print(solve(N, S))"
   ]
  },
  {
   "cell_type": "code",
   "execution_count": null,
   "metadata": {},
   "outputs": [],
   "source": []
  }
 ],
 "metadata": {
  "kernelspec": {
   "display_name": "Python 3",
   "language": "python",
   "name": "python3"
  },
  "language_info": {
   "codemirror_mode": {
    "name": "ipython",
    "version": 3
   },
   "file_extension": ".py",
   "mimetype": "text/x-python",
   "name": "python",
   "nbconvert_exporter": "python",
   "pygments_lexer": "ipython3",
   "version": "3.7.3"
  }
 },
 "nbformat": 4,
 "nbformat_minor": 2
}
